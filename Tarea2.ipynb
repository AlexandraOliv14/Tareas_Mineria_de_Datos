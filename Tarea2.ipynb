{
  "nbformat": 4,
  "nbformat_minor": 0,
  "metadata": {
    "colab": {
      "name": "Tarea2.ipynb",
      "provenance": [],
      "collapsed_sections": [
        "Rp4GGcmvoOQg"
      ],
      "authorship_tag": "ABX9TyMwCnvzGEdno5Q68TNArK0p",
      "include_colab_link": true
    },
    "kernelspec": {
      "name": "python3",
      "display_name": "Python 3"
    }
  },
  "cells": [
    {
      "cell_type": "markdown",
      "metadata": {
        "id": "view-in-github",
        "colab_type": "text"
      },
      "source": [
        "<a href=\"https://colab.research.google.com/github/dangalledi/Tareas_Mineria_de_Datos/blob/master/Tarea2.ipynb\" target=\"_parent\"><img src=\"https://colab.research.google.com/assets/colab-badge.svg\" alt=\"Open In Colab\"/></a>"
      ]
    },
    {
      "cell_type": "markdown",
      "metadata": {
        "id": "8ebgeBojn3un",
        "colab_type": "text"
      },
      "source": [
        "# Ejercicio 1 - [usar Dataframe]\n"
      ]
    },
    {
      "cell_type": "markdown",
      "metadata": {
        "id": "1hng1WNzny5C",
        "colab_type": "text"
      },
      "source": [
        "### 1.- Leer el archivo Countries.csv en un dataframe.\n"
      ]
    },
    {
      "cell_type": "code",
      "metadata": {
        "id": "eWPXpc_0uD8H",
        "colab_type": "code",
        "outputId": "052c5128-14bc-41a4-aaae-3a55ef00493e",
        "colab": {
          "base_uri": "https://localhost:8080/",
          "height": 34
        }
      },
      "source": [
        "import pandas as pd\n",
        "from google.colab import drive\n",
        "drive.mount('/content/drive/')"
      ],
      "execution_count": 0,
      "outputs": [
        {
          "output_type": "stream",
          "text": [
            "Drive already mounted at /content/drive/; to attempt to forcibly remount, call drive.mount(\"/content/drive/\", force_remount=True).\n"
          ],
          "name": "stdout"
        }
      ]
    },
    {
      "cell_type": "code",
      "metadata": {
        "id": "vfX_f4ZAvPDj",
        "colab_type": "code",
        "colab": {}
      },
      "source": [
        "ruta = '/content/drive/My Drive/Minería de datos/Tarea2'"
      ],
      "execution_count": 0,
      "outputs": []
    },
    {
      "cell_type": "code",
      "metadata": {
        "id": "4qd9NKe4wUhK",
        "colab_type": "code",
        "outputId": "ecc3fa3e-6544-4082-9ca0-e25ed88ca73c",
        "colab": {
          "base_uri": "https://localhost:8080/",
          "height": 204
        }
      },
      "source": [
        "f = open('%s/Countries.csv'%ruta)\n",
        "Countries = pd.read_csv(f)\n",
        "Countries.head()"
      ],
      "execution_count": 0,
      "outputs": [
        {
          "output_type": "execute_result",
          "data": {
            "text/html": [
              "<div>\n",
              "<style scoped>\n",
              "    .dataframe tbody tr th:only-of-type {\n",
              "        vertical-align: middle;\n",
              "    }\n",
              "\n",
              "    .dataframe tbody tr th {\n",
              "        vertical-align: top;\n",
              "    }\n",
              "\n",
              "    .dataframe thead th {\n",
              "        text-align: right;\n",
              "    }\n",
              "</style>\n",
              "<table border=\"1\" class=\"dataframe\">\n",
              "  <thead>\n",
              "    <tr style=\"text-align: right;\">\n",
              "      <th></th>\n",
              "      <th>country</th>\n",
              "      <th>coastline</th>\n",
              "      <th>highest</th>\n",
              "      <th>EU</th>\n",
              "    </tr>\n",
              "  </thead>\n",
              "  <tbody>\n",
              "    <tr>\n",
              "      <th>0</th>\n",
              "      <td>Albania</td>\n",
              "      <td>yes</td>\n",
              "      <td>2764</td>\n",
              "      <td>no</td>\n",
              "    </tr>\n",
              "    <tr>\n",
              "      <th>1</th>\n",
              "      <td>Andorra</td>\n",
              "      <td>no</td>\n",
              "      <td>2942</td>\n",
              "      <td>no</td>\n",
              "    </tr>\n",
              "    <tr>\n",
              "      <th>2</th>\n",
              "      <td>Austria</td>\n",
              "      <td>no</td>\n",
              "      <td>3798</td>\n",
              "      <td>yes</td>\n",
              "    </tr>\n",
              "    <tr>\n",
              "      <th>3</th>\n",
              "      <td>Belarus</td>\n",
              "      <td>no</td>\n",
              "      <td>345</td>\n",
              "      <td>no</td>\n",
              "    </tr>\n",
              "    <tr>\n",
              "      <th>4</th>\n",
              "      <td>Belgium</td>\n",
              "      <td>yes</td>\n",
              "      <td>694</td>\n",
              "      <td>yes</td>\n",
              "    </tr>\n",
              "  </tbody>\n",
              "</table>\n",
              "</div>"
            ],
            "text/plain": [
              "   country coastline  highest   EU\n",
              "0  Albania       yes     2764   no\n",
              "1  Andorra        no     2942   no\n",
              "2  Austria        no     3798  yes\n",
              "3  Belarus        no      345   no\n",
              "4  Belgium       yes      694  yes"
            ]
          },
          "metadata": {
            "tags": []
          },
          "execution_count": 25
        }
      ]
    },
    {
      "cell_type": "markdown",
      "metadata": {
        "id": "fWuwIsOen9u4",
        "colab_type": "text"
      },
      "source": [
        "### 2.- Imprimir una lista de los países que no tienen linea costerá y no estan en la EU, junto con sus puntos más altos, ordene de menor a mayor sus puntos más altos.\n"
      ]
    },
    {
      "cell_type": "code",
      "metadata": {
        "id": "N15fp1QjzhNo",
        "colab_type": "code",
        "outputId": "aa5e055d-9506-456a-ef60-6c0bc7f5ec9a",
        "colab": {
          "base_uri": "https://localhost:8080/",
          "height": 362
        }
      },
      "source": [
        "Countries[Countries.coastline == 'no'][Countries.EU == 'no'].sort_values(by=['highest'],ascending=[True])"
      ],
      "execution_count": 0,
      "outputs": [
        {
          "output_type": "stream",
          "text": [
            "/usr/local/lib/python3.6/dist-packages/ipykernel_launcher.py:1: UserWarning: Boolean Series key will be reindexed to match DataFrame index.\n",
            "  \"\"\"Entry point for launching an IPython kernel.\n"
          ],
          "name": "stderr"
        },
        {
          "output_type": "execute_result",
          "data": {
            "text/html": [
              "<div>\n",
              "<style scoped>\n",
              "    .dataframe tbody tr th:only-of-type {\n",
              "        vertical-align: middle;\n",
              "    }\n",
              "\n",
              "    .dataframe tbody tr th {\n",
              "        vertical-align: top;\n",
              "    }\n",
              "\n",
              "    .dataframe thead th {\n",
              "        text-align: right;\n",
              "    }\n",
              "</style>\n",
              "<table border=\"1\" class=\"dataframe\">\n",
              "  <thead>\n",
              "    <tr style=\"text-align: right;\">\n",
              "      <th></th>\n",
              "      <th>country</th>\n",
              "      <th>coastline</th>\n",
              "      <th>highest</th>\n",
              "      <th>EU</th>\n",
              "    </tr>\n",
              "  </thead>\n",
              "  <tbody>\n",
              "    <tr>\n",
              "      <th>3</th>\n",
              "      <td>Belarus</td>\n",
              "      <td>no</td>\n",
              "      <td>345</td>\n",
              "      <td>no</td>\n",
              "    </tr>\n",
              "    <tr>\n",
              "      <th>26</th>\n",
              "      <td>Moldova</td>\n",
              "      <td>no</td>\n",
              "      <td>430</td>\n",
              "      <td>no</td>\n",
              "    </tr>\n",
              "    <tr>\n",
              "      <th>33</th>\n",
              "      <td>Serbia</td>\n",
              "      <td>no</td>\n",
              "      <td>2169</td>\n",
              "      <td>no</td>\n",
              "    </tr>\n",
              "    <tr>\n",
              "      <th>5</th>\n",
              "      <td>Bosnia and Herzegovina</td>\n",
              "      <td>no</td>\n",
              "      <td>2386</td>\n",
              "      <td>no</td>\n",
              "    </tr>\n",
              "    <tr>\n",
              "      <th>22</th>\n",
              "      <td>Liechtenstein</td>\n",
              "      <td>no</td>\n",
              "      <td>2599</td>\n",
              "      <td>no</td>\n",
              "    </tr>\n",
              "    <tr>\n",
              "      <th>20</th>\n",
              "      <td>Kosovo</td>\n",
              "      <td>no</td>\n",
              "      <td>2656</td>\n",
              "      <td>no</td>\n",
              "    </tr>\n",
              "    <tr>\n",
              "      <th>25</th>\n",
              "      <td>Macedonia</td>\n",
              "      <td>no</td>\n",
              "      <td>2764</td>\n",
              "      <td>no</td>\n",
              "    </tr>\n",
              "    <tr>\n",
              "      <th>1</th>\n",
              "      <td>Andorra</td>\n",
              "      <td>no</td>\n",
              "      <td>2942</td>\n",
              "      <td>no</td>\n",
              "    </tr>\n",
              "    <tr>\n",
              "      <th>38</th>\n",
              "      <td>Switzerland</td>\n",
              "      <td>no</td>\n",
              "      <td>4634</td>\n",
              "      <td>no</td>\n",
              "    </tr>\n",
              "  </tbody>\n",
              "</table>\n",
              "</div>"
            ],
            "text/plain": [
              "                   country coastline  highest  EU\n",
              "3                  Belarus        no      345  no\n",
              "26                 Moldova        no      430  no\n",
              "33                  Serbia        no     2169  no\n",
              "5   Bosnia and Herzegovina        no     2386  no\n",
              "22           Liechtenstein        no     2599  no\n",
              "20                  Kosovo        no     2656  no\n",
              "25               Macedonia        no     2764  no\n",
              "1                  Andorra        no     2942  no\n",
              "38             Switzerland        no     4634  no"
            ]
          },
          "metadata": {
            "tags": []
          },
          "execution_count": 26
        }
      ]
    },
    {
      "cell_type": "markdown",
      "metadata": {
        "id": "yjZnfFTioA3V",
        "colab_type": "text"
      },
      "source": [
        "# Ejercicio 2 - [usar Dataframe]"
      ]
    },
    {
      "cell_type": "markdown",
      "metadata": {
        "id": "WK1Rwz-1oBPb",
        "colab_type": "text"
      },
      "source": [
        "### 1.- Encontrar el punto medio, máximo y mínimo más alto [highest] de los países en la UE y no en la UE."
      ]
    },
    {
      "cell_type": "code",
      "metadata": {
        "id": "cNPteOQ253ZR",
        "colab_type": "code",
        "outputId": "ae270e39-96e2-4694-d274-649843c1eb8b",
        "colab": {
          "base_uri": "https://localhost:8080/",
          "height": 68
        }
      },
      "source": [
        "print('Max de highest no en UE: ',max(Countries['highest'][Countries.EU =='no']))\n",
        "print('Media de highest no en UE: ',(Countries['highest'][Countries.EU =='no'].mean()))\n",
        "print('Min de highest no en UE: ',min(Countries['highest'][Countries.EU =='no']))"
      ],
      "execution_count": 0,
      "outputs": [
        {
          "output_type": "stream",
          "text": [
            "Max de highest no en UE:  5137\n",
            "Media de highest no en UE:  2533.3333333333335\n",
            "Min de highest no en UE:  345\n"
          ],
          "name": "stdout"
        }
      ]
    },
    {
      "cell_type": "code",
      "metadata": {
        "id": "xxlbgbIA7BHD",
        "colab_type": "code",
        "outputId": "27fa492c-63ef-46e7-98f2-13c0830ef7a0",
        "colab": {
          "base_uri": "https://localhost:8080/",
          "height": 68
        }
      },
      "source": [
        "print('Max de highest en UE: ',max(Countries['highest'][Countries.EU =='yes']))\n",
        "print('Media de highest en UE: ',(Countries['highest'][Countries.EU =='yes'].mean()))\n",
        "print('Min de highest en UE: ',min(Countries['highest'][Countries.EU =='yes']))"
      ],
      "execution_count": 0,
      "outputs": [
        {
          "output_type": "stream",
          "text": [
            "Max de highest en UE:  4810\n",
            "Media de highest en UE:  1968.148148148148\n",
            "Min de highest en UE:  171\n"
          ],
          "name": "stdout"
        }
      ]
    },
    {
      "cell_type": "markdown",
      "metadata": {
        "id": "wue7m51xoBli",
        "colab_type": "text"
      },
      "source": [
        "### 2.- Encontrar el punto medio, máximo y mínimo más alto [higest] de los países con y sin línea costera.\n"
      ]
    },
    {
      "cell_type": "code",
      "metadata": {
        "id": "d0CCbTu-7LTm",
        "colab_type": "code",
        "colab": {}
      },
      "source": [
        "print('Max de highest sin coastline: ',max(Countries['highest'][Countries.coastline =='no']))\n",
        "print('Media de highest sin coastline: ',(Countries['highest'][Countries.coastline =='no'].mean()))\n",
        "print('Min de highest sin coastline: ',min(Countries['highest'][Countries.coastline =='no']))"
      ],
      "execution_count": 0,
      "outputs": []
    },
    {
      "cell_type": "code",
      "metadata": {
        "id": "DJjcPHDX7bMO",
        "colab_type": "code",
        "outputId": "4b9c6a7f-9b37-4a5f-fd6a-b65294f05462",
        "colab": {
          "base_uri": "https://localhost:8080/",
          "height": 68
        }
      },
      "source": [
        "print('Max de highest con coastline: ',max(Countries['highest'][Countries.coastline =='yes']))\n",
        "print('Media de highest con coastline: ',(Countries['highest'][Countries.coastline =='yes'].mean()))\n",
        "print('Min de highest con coastline: ',min(Countries['highest'][Countries.coastline =='yes']))"
      ],
      "execution_count": 0,
      "outputs": [
        {
          "output_type": "stream",
          "text": [
            "Max de highest con coastline:  5137\n",
            "Media de highest con coastline:  2163.75\n",
            "Min de highest con coastline:  171\n"
          ],
          "name": "stdout"
        }
      ]
    },
    {
      "cell_type": "markdown",
      "metadata": {
        "id": "goPes9lGoCAG",
        "colab_type": "text"
      },
      "source": [
        "# Ejercicio 3 - [usar Dataframe]\n"
      ]
    },
    {
      "cell_type": "markdown",
      "metadata": {
        "id": "52UGYlp-oCkD",
        "colab_type": "text"
      },
      "source": [
        "#### 1.- Leer los jugadores y equipos en dataframes [Players.csv] y [Teams.csv]."
      ]
    },
    {
      "cell_type": "code",
      "metadata": {
        "id": "yBii5aK17qK5",
        "colab_type": "code",
        "colab": {}
      },
      "source": [
        "h = open('%s/Players.csv'%ruta)\n",
        "Players = pd.read_csv(h)\n",
        "g = open('%s/Teams.csv'%ruta)\n",
        "Teams = pd.read_csv(g)"
      ],
      "execution_count": 0,
      "outputs": []
    },
    {
      "cell_type": "code",
      "metadata": {
        "id": "1iunt2dG8XI3",
        "colab_type": "code",
        "outputId": "f70b7104-075d-4786-8156-915d66c1e73a",
        "colab": {
          "base_uri": "https://localhost:8080/",
          "height": 204
        }
      },
      "source": [
        "Teams.head()"
      ],
      "execution_count": 0,
      "outputs": [
        {
          "output_type": "execute_result",
          "data": {
            "text/html": [
              "<div>\n",
              "<style scoped>\n",
              "    .dataframe tbody tr th:only-of-type {\n",
              "        vertical-align: middle;\n",
              "    }\n",
              "\n",
              "    .dataframe tbody tr th {\n",
              "        vertical-align: top;\n",
              "    }\n",
              "\n",
              "    .dataframe thead th {\n",
              "        text-align: right;\n",
              "    }\n",
              "</style>\n",
              "<table border=\"1\" class=\"dataframe\">\n",
              "  <thead>\n",
              "    <tr style=\"text-align: right;\">\n",
              "      <th></th>\n",
              "      <th>team</th>\n",
              "      <th>ranking</th>\n",
              "      <th>games</th>\n",
              "      <th>wins</th>\n",
              "      <th>draws</th>\n",
              "      <th>losses</th>\n",
              "      <th>goalsFor</th>\n",
              "      <th>goalsAgainst</th>\n",
              "      <th>yellowCards</th>\n",
              "      <th>redCards</th>\n",
              "    </tr>\n",
              "  </thead>\n",
              "  <tbody>\n",
              "    <tr>\n",
              "      <th>0</th>\n",
              "      <td>Brazil</td>\n",
              "      <td>1</td>\n",
              "      <td>5</td>\n",
              "      <td>3</td>\n",
              "      <td>1</td>\n",
              "      <td>1</td>\n",
              "      <td>9</td>\n",
              "      <td>4</td>\n",
              "      <td>7</td>\n",
              "      <td>2</td>\n",
              "    </tr>\n",
              "    <tr>\n",
              "      <th>1</th>\n",
              "      <td>Spain</td>\n",
              "      <td>2</td>\n",
              "      <td>6</td>\n",
              "      <td>5</td>\n",
              "      <td>0</td>\n",
              "      <td>1</td>\n",
              "      <td>7</td>\n",
              "      <td>2</td>\n",
              "      <td>3</td>\n",
              "      <td>0</td>\n",
              "    </tr>\n",
              "    <tr>\n",
              "      <th>2</th>\n",
              "      <td>Portugal</td>\n",
              "      <td>3</td>\n",
              "      <td>4</td>\n",
              "      <td>1</td>\n",
              "      <td>2</td>\n",
              "      <td>1</td>\n",
              "      <td>7</td>\n",
              "      <td>1</td>\n",
              "      <td>8</td>\n",
              "      <td>1</td>\n",
              "    </tr>\n",
              "    <tr>\n",
              "      <th>3</th>\n",
              "      <td>Netherlands</td>\n",
              "      <td>4</td>\n",
              "      <td>6</td>\n",
              "      <td>6</td>\n",
              "      <td>0</td>\n",
              "      <td>0</td>\n",
              "      <td>12</td>\n",
              "      <td>5</td>\n",
              "      <td>15</td>\n",
              "      <td>0</td>\n",
              "    </tr>\n",
              "    <tr>\n",
              "      <th>4</th>\n",
              "      <td>Italy</td>\n",
              "      <td>5</td>\n",
              "      <td>3</td>\n",
              "      <td>0</td>\n",
              "      <td>2</td>\n",
              "      <td>1</td>\n",
              "      <td>4</td>\n",
              "      <td>5</td>\n",
              "      <td>5</td>\n",
              "      <td>0</td>\n",
              "    </tr>\n",
              "  </tbody>\n",
              "</table>\n",
              "</div>"
            ],
            "text/plain": [
              "          team  ranking  games  ...  goalsAgainst  yellowCards  redCards\n",
              "0       Brazil        1      5  ...             4            7         2\n",
              "1        Spain        2      6  ...             2            3         0\n",
              "2     Portugal        3      4  ...             1            8         1\n",
              "3  Netherlands        4      6  ...             5           15         0\n",
              "4        Italy        5      3  ...             5            5         0\n",
              "\n",
              "[5 rows x 10 columns]"
            ]
          },
          "metadata": {
            "tags": []
          },
          "execution_count": 32
        }
      ]
    },
    {
      "cell_type": "code",
      "metadata": {
        "id": "ckEGRCmn8gEI",
        "colab_type": "code",
        "outputId": "f6a55cd8-a508-49a2-e274-673211fbc9f6",
        "colab": {
          "base_uri": "https://localhost:8080/",
          "height": 204
        }
      },
      "source": [
        "Players.head()"
      ],
      "execution_count": 0,
      "outputs": [
        {
          "output_type": "execute_result",
          "data": {
            "text/html": [
              "<div>\n",
              "<style scoped>\n",
              "    .dataframe tbody tr th:only-of-type {\n",
              "        vertical-align: middle;\n",
              "    }\n",
              "\n",
              "    .dataframe tbody tr th {\n",
              "        vertical-align: top;\n",
              "    }\n",
              "\n",
              "    .dataframe thead th {\n",
              "        text-align: right;\n",
              "    }\n",
              "</style>\n",
              "<table border=\"1\" class=\"dataframe\">\n",
              "  <thead>\n",
              "    <tr style=\"text-align: right;\">\n",
              "      <th></th>\n",
              "      <th>surname</th>\n",
              "      <th>team</th>\n",
              "      <th>position</th>\n",
              "      <th>minutes</th>\n",
              "      <th>shots</th>\n",
              "      <th>passes</th>\n",
              "      <th>tackles</th>\n",
              "      <th>saves</th>\n",
              "    </tr>\n",
              "  </thead>\n",
              "  <tbody>\n",
              "    <tr>\n",
              "      <th>0</th>\n",
              "      <td>Abdoun</td>\n",
              "      <td>Algeria</td>\n",
              "      <td>midfielder</td>\n",
              "      <td>16</td>\n",
              "      <td>0</td>\n",
              "      <td>6</td>\n",
              "      <td>0</td>\n",
              "      <td>0</td>\n",
              "    </tr>\n",
              "    <tr>\n",
              "      <th>1</th>\n",
              "      <td>Belhadj</td>\n",
              "      <td>Algeria</td>\n",
              "      <td>defender</td>\n",
              "      <td>270</td>\n",
              "      <td>1</td>\n",
              "      <td>146</td>\n",
              "      <td>8</td>\n",
              "      <td>0</td>\n",
              "    </tr>\n",
              "    <tr>\n",
              "      <th>2</th>\n",
              "      <td>Boudebouz</td>\n",
              "      <td>Algeria</td>\n",
              "      <td>midfielder</td>\n",
              "      <td>74</td>\n",
              "      <td>3</td>\n",
              "      <td>28</td>\n",
              "      <td>1</td>\n",
              "      <td>0</td>\n",
              "    </tr>\n",
              "    <tr>\n",
              "      <th>3</th>\n",
              "      <td>Bougherra</td>\n",
              "      <td>Algeria</td>\n",
              "      <td>defender</td>\n",
              "      <td>270</td>\n",
              "      <td>1</td>\n",
              "      <td>89</td>\n",
              "      <td>11</td>\n",
              "      <td>0</td>\n",
              "    </tr>\n",
              "    <tr>\n",
              "      <th>4</th>\n",
              "      <td>Chaouchi</td>\n",
              "      <td>Algeria</td>\n",
              "      <td>goalkeeper</td>\n",
              "      <td>90</td>\n",
              "      <td>0</td>\n",
              "      <td>17</td>\n",
              "      <td>0</td>\n",
              "      <td>2</td>\n",
              "    </tr>\n",
              "  </tbody>\n",
              "</table>\n",
              "</div>"
            ],
            "text/plain": [
              "     surname     team    position  minutes  shots  passes  tackles  saves\n",
              "0     Abdoun  Algeria  midfielder       16      0       6        0      0\n",
              "1    Belhadj  Algeria    defender      270      1     146        8      0\n",
              "2  Boudebouz  Algeria  midfielder       74      3      28        1      0\n",
              "3  Bougherra  Algeria    defender      270      1      89       11      0\n",
              "4   Chaouchi  Algeria  goalkeeper       90      0      17        0      2"
            ]
          },
          "metadata": {
            "tags": []
          },
          "execution_count": 33
        }
      ]
    },
    {
      "cell_type": "markdown",
      "metadata": {
        "id": "U2X7P8VqoOg9",
        "colab_type": "text"
      },
      "source": [
        "#### 2.- Qué jugador en un equipo con \"ou\" en el nombre, jugó mas de 190 minutos e hizo más de 100 pases? Imprima el apellido del jugador."
      ]
    },
    {
      "cell_type": "code",
      "metadata": {
        "id": "R86PaLXn8VH2",
        "colab_type": "code",
        "outputId": "092b4429-ef32-4336-9408-f6f64288a56d",
        "colab": {
          "base_uri": "https://localhost:8080/",
          "height": 204
        }
      },
      "source": [
        "Players.surname[Players.surname.str.contains('ou')][Players.minutes>190][Players.passes>100]"
      ],
      "execution_count": 0,
      "outputs": [
        {
          "output_type": "execute_result",
          "data": {
            "text/plain": [
              "78          Assou-Ekotto\n",
              "89                Makoun\n",
              "93              N'Koulou\n",
              "119    Christian Poulsen\n",
              "155           Abou Diaby\n",
              "216          Katsouranis\n",
              "274                Eboue\n",
              "282           Yaya Toure\n",
              "371        Ahn Young-Hak\n",
              "512        Lee Young-Pyo\n",
              "Name: surname, dtype: object"
            ]
          },
          "metadata": {
            "tags": []
          },
          "execution_count": 34
        }
      ]
    },
    {
      "cell_type": "markdown",
      "metadata": {
        "id": "FmRouJGpoOdn",
        "colab_type": "text"
      },
      "source": [
        "#### 3.- ¿Cuál es el promedio, máximo y mínimo de pases de los defensas y delanteros?"
      ]
    },
    {
      "cell_type": "code",
      "metadata": {
        "id": "bIl769O7-rGQ",
        "colab_type": "code",
        "outputId": "1cf5eaba-f10a-43d5-87a1-9903b4e059fb",
        "colab": {
          "base_uri": "https://localhost:8080/",
          "height": 68
        }
      },
      "source": [
        "print('Max de passes de un defender: ',max(Players['passes'][Players.position =='defender']))\n",
        "print('Media de passes de un defender: ',(Players['passes'][Players.position =='defender'].mean()))\n",
        "print('Min de passes de un defender: ',min(Players['passes'][Players.position =='defender']))"
      ],
      "execution_count": 0,
      "outputs": [
        {
          "output_type": "stream",
          "text": [
            "Max de passes de un defender:  402\n",
            "Media de passes de un defender:  102.6436170212766\n",
            "Min de passes de un defender:  0\n"
          ],
          "name": "stdout"
        }
      ]
    },
    {
      "cell_type": "code",
      "metadata": {
        "id": "AntLSG65_5A_",
        "colab_type": "code",
        "outputId": "024fcd35-8bff-4439-fd44-7765e7a5fc04",
        "colab": {
          "base_uri": "https://localhost:8080/",
          "height": 68
        }
      },
      "source": [
        "print('Max de passes de un forward: ',max(Players['passes'][Players.position =='forward']))\n",
        "print('Media de passes de un forward: ',(Players['passes'][Players.position =='forward'].mean()))\n",
        "print('Min de passes de un forward: ',min(Players['passes'][Players.position =='forward']))"
      ],
      "execution_count": 0,
      "outputs": [
        {
          "output_type": "stream",
          "text": [
            "Max de passes de un forward:  321\n",
            "Media de passes de un forward:  50.82517482517483\n",
            "Min de passes de un forward:  0\n"
          ],
          "name": "stdout"
        }
      ]
    },
    {
      "cell_type": "markdown",
      "metadata": {
        "id": "UBVL_vG3oOZ7",
        "colab_type": "text"
      },
      "source": [
        "#### 4.- ¿Qué equipo tiene el mayor ratio de 'goalsFor' y 'goalsAgainst'? Imprimir sólo el nombre del equipo."
      ]
    },
    {
      "cell_type": "code",
      "metadata": {
        "id": "2ggaZxU-lo2t",
        "colab_type": "code",
        "outputId": "40e00021-0ddc-4932-c827-8df659b70a8e",
        "colab": {
          "base_uri": "https://localhost:8080/",
          "height": 204
        }
      },
      "source": [
        "Equipo = Teams.sort_values(by=['goalsFor'],ascending=[False])\n",
        "Equipo.head()"
      ],
      "execution_count": 0,
      "outputs": [
        {
          "output_type": "execute_result",
          "data": {
            "text/html": [
              "<div>\n",
              "<style scoped>\n",
              "    .dataframe tbody tr th:only-of-type {\n",
              "        vertical-align: middle;\n",
              "    }\n",
              "\n",
              "    .dataframe tbody tr th {\n",
              "        vertical-align: top;\n",
              "    }\n",
              "\n",
              "    .dataframe thead th {\n",
              "        text-align: right;\n",
              "    }\n",
              "</style>\n",
              "<table border=\"1\" class=\"dataframe\">\n",
              "  <thead>\n",
              "    <tr style=\"text-align: right;\">\n",
              "      <th></th>\n",
              "      <th>team</th>\n",
              "      <th>ranking</th>\n",
              "      <th>games</th>\n",
              "      <th>wins</th>\n",
              "      <th>draws</th>\n",
              "      <th>losses</th>\n",
              "      <th>goalsFor</th>\n",
              "      <th>goalsAgainst</th>\n",
              "      <th>yellowCards</th>\n",
              "      <th>redCards</th>\n",
              "    </tr>\n",
              "  </thead>\n",
              "  <tbody>\n",
              "    <tr>\n",
              "      <th>5</th>\n",
              "      <td>Germany</td>\n",
              "      <td>6</td>\n",
              "      <td>6</td>\n",
              "      <td>4</td>\n",
              "      <td>0</td>\n",
              "      <td>2</td>\n",
              "      <td>13</td>\n",
              "      <td>3</td>\n",
              "      <td>8</td>\n",
              "      <td>1</td>\n",
              "    </tr>\n",
              "    <tr>\n",
              "      <th>3</th>\n",
              "      <td>Netherlands</td>\n",
              "      <td>4</td>\n",
              "      <td>6</td>\n",
              "      <td>6</td>\n",
              "      <td>0</td>\n",
              "      <td>0</td>\n",
              "      <td>12</td>\n",
              "      <td>5</td>\n",
              "      <td>15</td>\n",
              "      <td>0</td>\n",
              "    </tr>\n",
              "    <tr>\n",
              "      <th>6</th>\n",
              "      <td>Argentina</td>\n",
              "      <td>7</td>\n",
              "      <td>5</td>\n",
              "      <td>4</td>\n",
              "      <td>0</td>\n",
              "      <td>1</td>\n",
              "      <td>10</td>\n",
              "      <td>6</td>\n",
              "      <td>7</td>\n",
              "      <td>0</td>\n",
              "    </tr>\n",
              "    <tr>\n",
              "      <th>0</th>\n",
              "      <td>Brazil</td>\n",
              "      <td>1</td>\n",
              "      <td>5</td>\n",
              "      <td>3</td>\n",
              "      <td>1</td>\n",
              "      <td>1</td>\n",
              "      <td>9</td>\n",
              "      <td>4</td>\n",
              "      <td>7</td>\n",
              "      <td>2</td>\n",
              "    </tr>\n",
              "    <tr>\n",
              "      <th>12</th>\n",
              "      <td>Uruguay</td>\n",
              "      <td>16</td>\n",
              "      <td>6</td>\n",
              "      <td>3</td>\n",
              "      <td>2</td>\n",
              "      <td>1</td>\n",
              "      <td>9</td>\n",
              "      <td>5</td>\n",
              "      <td>8</td>\n",
              "      <td>2</td>\n",
              "    </tr>\n",
              "  </tbody>\n",
              "</table>\n",
              "</div>"
            ],
            "text/plain": [
              "           team  ranking  games  ...  goalsAgainst  yellowCards  redCards\n",
              "5       Germany        6      6  ...             3            8         1\n",
              "3   Netherlands        4      6  ...             5           15         0\n",
              "6     Argentina        7      5  ...             6            7         0\n",
              "0        Brazil        1      5  ...             4            7         2\n",
              "12      Uruguay       16      6  ...             5            8         2\n",
              "\n",
              "[5 rows x 10 columns]"
            ]
          },
          "metadata": {
            "tags": []
          },
          "execution_count": 37
        }
      ]
    },
    {
      "cell_type": "code",
      "metadata": {
        "id": "vUIckP26l8fe",
        "colab_type": "code",
        "outputId": "01afc35b-f080-4707-8a40-f82a2d4db40f",
        "colab": {
          "base_uri": "https://localhost:8080/",
          "height": 204
        }
      },
      "source": [
        "Equipo = Teams.sort_values(by=['goalsAgainst'],ascending=[False])\n",
        "Equipo.head()"
      ],
      "execution_count": 0,
      "outputs": [
        {
          "output_type": "execute_result",
          "data": {
            "text/html": [
              "<div>\n",
              "<style scoped>\n",
              "    .dataframe tbody tr th:only-of-type {\n",
              "        vertical-align: middle;\n",
              "    }\n",
              "\n",
              "    .dataframe tbody tr th {\n",
              "        vertical-align: top;\n",
              "    }\n",
              "\n",
              "    .dataframe thead th {\n",
              "        text-align: right;\n",
              "    }\n",
              "</style>\n",
              "<table border=\"1\" class=\"dataframe\">\n",
              "  <thead>\n",
              "    <tr style=\"text-align: right;\">\n",
              "      <th></th>\n",
              "      <th>team</th>\n",
              "      <th>ranking</th>\n",
              "      <th>games</th>\n",
              "      <th>wins</th>\n",
              "      <th>draws</th>\n",
              "      <th>losses</th>\n",
              "      <th>goalsFor</th>\n",
              "      <th>goalsAgainst</th>\n",
              "      <th>yellowCards</th>\n",
              "      <th>redCards</th>\n",
              "    </tr>\n",
              "  </thead>\n",
              "  <tbody>\n",
              "    <tr>\n",
              "      <th>31</th>\n",
              "      <td>North Korea</td>\n",
              "      <td>105</td>\n",
              "      <td>3</td>\n",
              "      <td>0</td>\n",
              "      <td>0</td>\n",
              "      <td>3</td>\n",
              "      <td>1</td>\n",
              "      <td>12</td>\n",
              "      <td>2</td>\n",
              "      <td>0</td>\n",
              "    </tr>\n",
              "    <tr>\n",
              "      <th>28</th>\n",
              "      <td>South Korea</td>\n",
              "      <td>47</td>\n",
              "      <td>4</td>\n",
              "      <td>1</td>\n",
              "      <td>1</td>\n",
              "      <td>2</td>\n",
              "      <td>6</td>\n",
              "      <td>8</td>\n",
              "      <td>6</td>\n",
              "      <td>0</td>\n",
              "    </tr>\n",
              "    <tr>\n",
              "      <th>24</th>\n",
              "      <td>Slovakia</td>\n",
              "      <td>34</td>\n",
              "      <td>4</td>\n",
              "      <td>1</td>\n",
              "      <td>1</td>\n",
              "      <td>2</td>\n",
              "      <td>5</td>\n",
              "      <td>7</td>\n",
              "      <td>11</td>\n",
              "      <td>0</td>\n",
              "    </tr>\n",
              "    <tr>\n",
              "      <th>6</th>\n",
              "      <td>Argentina</td>\n",
              "      <td>7</td>\n",
              "      <td>5</td>\n",
              "      <td>4</td>\n",
              "      <td>0</td>\n",
              "      <td>1</td>\n",
              "      <td>10</td>\n",
              "      <td>6</td>\n",
              "      <td>7</td>\n",
              "      <td>0</td>\n",
              "    </tr>\n",
              "    <tr>\n",
              "      <th>25</th>\n",
              "      <td>Denmark</td>\n",
              "      <td>36</td>\n",
              "      <td>3</td>\n",
              "      <td>1</td>\n",
              "      <td>0</td>\n",
              "      <td>2</td>\n",
              "      <td>3</td>\n",
              "      <td>6</td>\n",
              "      <td>6</td>\n",
              "      <td>0</td>\n",
              "    </tr>\n",
              "  </tbody>\n",
              "</table>\n",
              "</div>"
            ],
            "text/plain": [
              "           team  ranking  games  ...  goalsAgainst  yellowCards  redCards\n",
              "31  North Korea      105      3  ...            12            2         0\n",
              "28  South Korea       47      4  ...             8            6         0\n",
              "24     Slovakia       34      4  ...             7           11         0\n",
              "6     Argentina        7      5  ...             6            7         0\n",
              "25      Denmark       36      3  ...             6            6         0\n",
              "\n",
              "[5 rows x 10 columns]"
            ]
          },
          "metadata": {
            "tags": []
          },
          "execution_count": 38
        }
      ]
    },
    {
      "cell_type": "code",
      "metadata": {
        "id": "JiWXvNKGATIk",
        "colab_type": "code",
        "outputId": "20aad8e6-08ff-4c0e-8f42-9933ed5486d7",
        "colab": {
          "base_uri": "https://localhost:8080/",
          "height": 34
        }
      },
      "source": [
        "Equipo.team.max()"
      ],
      "execution_count": 0,
      "outputs": [
        {
          "output_type": "execute_result",
          "data": {
            "text/plain": [
              "'Uruguay'"
            ]
          },
          "metadata": {
            "tags": []
          },
          "execution_count": 39
        }
      ]
    },
    {
      "cell_type": "markdown",
      "metadata": {
        "id": "_jqMHdU1oOWG",
        "colab_type": "text"
      },
      "source": [
        "#### 5.- ¿Cuántos jugadores que juegan en un equipo con ranking <5 jugaron más de 400 minutos?\n"
      ]
    },
    {
      "cell_type": "code",
      "metadata": {
        "id": "RmV5291dbGxV",
        "colab_type": "code",
        "outputId": "d7105226-5b62-4f3d-9ab2-5b50a9e4a1ac",
        "colab": {
          "base_uri": "https://localhost:8080/",
          "height": 204
        }
      },
      "source": [
        "PlayersTeams = Players.merge(Teams, on = 'team')\n",
        "PlayersTeams.head()"
      ],
      "execution_count": 0,
      "outputs": [
        {
          "output_type": "execute_result",
          "data": {
            "text/html": [
              "<div>\n",
              "<style scoped>\n",
              "    .dataframe tbody tr th:only-of-type {\n",
              "        vertical-align: middle;\n",
              "    }\n",
              "\n",
              "    .dataframe tbody tr th {\n",
              "        vertical-align: top;\n",
              "    }\n",
              "\n",
              "    .dataframe thead th {\n",
              "        text-align: right;\n",
              "    }\n",
              "</style>\n",
              "<table border=\"1\" class=\"dataframe\">\n",
              "  <thead>\n",
              "    <tr style=\"text-align: right;\">\n",
              "      <th></th>\n",
              "      <th>surname</th>\n",
              "      <th>team</th>\n",
              "      <th>position</th>\n",
              "      <th>minutes</th>\n",
              "      <th>shots</th>\n",
              "      <th>passes</th>\n",
              "      <th>tackles</th>\n",
              "      <th>saves</th>\n",
              "      <th>ranking</th>\n",
              "      <th>games</th>\n",
              "      <th>wins</th>\n",
              "      <th>draws</th>\n",
              "      <th>losses</th>\n",
              "      <th>goalsFor</th>\n",
              "      <th>goalsAgainst</th>\n",
              "      <th>yellowCards</th>\n",
              "      <th>redCards</th>\n",
              "    </tr>\n",
              "  </thead>\n",
              "  <tbody>\n",
              "    <tr>\n",
              "      <th>0</th>\n",
              "      <td>Abdoun</td>\n",
              "      <td>Algeria</td>\n",
              "      <td>midfielder</td>\n",
              "      <td>16</td>\n",
              "      <td>0</td>\n",
              "      <td>6</td>\n",
              "      <td>0</td>\n",
              "      <td>0</td>\n",
              "      <td>30</td>\n",
              "      <td>3</td>\n",
              "      <td>0</td>\n",
              "      <td>1</td>\n",
              "      <td>2</td>\n",
              "      <td>0</td>\n",
              "      <td>2</td>\n",
              "      <td>4</td>\n",
              "      <td>2</td>\n",
              "    </tr>\n",
              "    <tr>\n",
              "      <th>1</th>\n",
              "      <td>Belhadj</td>\n",
              "      <td>Algeria</td>\n",
              "      <td>defender</td>\n",
              "      <td>270</td>\n",
              "      <td>1</td>\n",
              "      <td>146</td>\n",
              "      <td>8</td>\n",
              "      <td>0</td>\n",
              "      <td>30</td>\n",
              "      <td>3</td>\n",
              "      <td>0</td>\n",
              "      <td>1</td>\n",
              "      <td>2</td>\n",
              "      <td>0</td>\n",
              "      <td>2</td>\n",
              "      <td>4</td>\n",
              "      <td>2</td>\n",
              "    </tr>\n",
              "    <tr>\n",
              "      <th>2</th>\n",
              "      <td>Boudebouz</td>\n",
              "      <td>Algeria</td>\n",
              "      <td>midfielder</td>\n",
              "      <td>74</td>\n",
              "      <td>3</td>\n",
              "      <td>28</td>\n",
              "      <td>1</td>\n",
              "      <td>0</td>\n",
              "      <td>30</td>\n",
              "      <td>3</td>\n",
              "      <td>0</td>\n",
              "      <td>1</td>\n",
              "      <td>2</td>\n",
              "      <td>0</td>\n",
              "      <td>2</td>\n",
              "      <td>4</td>\n",
              "      <td>2</td>\n",
              "    </tr>\n",
              "    <tr>\n",
              "      <th>3</th>\n",
              "      <td>Bougherra</td>\n",
              "      <td>Algeria</td>\n",
              "      <td>defender</td>\n",
              "      <td>270</td>\n",
              "      <td>1</td>\n",
              "      <td>89</td>\n",
              "      <td>11</td>\n",
              "      <td>0</td>\n",
              "      <td>30</td>\n",
              "      <td>3</td>\n",
              "      <td>0</td>\n",
              "      <td>1</td>\n",
              "      <td>2</td>\n",
              "      <td>0</td>\n",
              "      <td>2</td>\n",
              "      <td>4</td>\n",
              "      <td>2</td>\n",
              "    </tr>\n",
              "    <tr>\n",
              "      <th>4</th>\n",
              "      <td>Chaouchi</td>\n",
              "      <td>Algeria</td>\n",
              "      <td>goalkeeper</td>\n",
              "      <td>90</td>\n",
              "      <td>0</td>\n",
              "      <td>17</td>\n",
              "      <td>0</td>\n",
              "      <td>2</td>\n",
              "      <td>30</td>\n",
              "      <td>3</td>\n",
              "      <td>0</td>\n",
              "      <td>1</td>\n",
              "      <td>2</td>\n",
              "      <td>0</td>\n",
              "      <td>2</td>\n",
              "      <td>4</td>\n",
              "      <td>2</td>\n",
              "    </tr>\n",
              "  </tbody>\n",
              "</table>\n",
              "</div>"
            ],
            "text/plain": [
              "     surname     team    position  ...  goalsAgainst  yellowCards  redCards\n",
              "0     Abdoun  Algeria  midfielder  ...             2            4         2\n",
              "1    Belhadj  Algeria    defender  ...             2            4         2\n",
              "2  Boudebouz  Algeria  midfielder  ...             2            4         2\n",
              "3  Bougherra  Algeria    defender  ...             2            4         2\n",
              "4   Chaouchi  Algeria  goalkeeper  ...             2            4         2\n",
              "\n",
              "[5 rows x 17 columns]"
            ]
          },
          "metadata": {
            "tags": []
          },
          "execution_count": 40
        }
      ]
    },
    {
      "cell_type": "code",
      "metadata": {
        "id": "hjcJ_HIgaRpv",
        "colab_type": "code",
        "outputId": "48c62bd2-7e59-47bf-c44f-5939c7f60af1",
        "colab": {
          "base_uri": "https://localhost:8080/",
          "height": 34
        }
      },
      "source": [
        "print ('Cant de jugadores en un equipo con ranking <5 jugaron más de 400 minutos son : ' , PlayersTeams.surname[PlayersTeams.ranking<5][PlayersTeams.minutes>400].count())"
      ],
      "execution_count": 0,
      "outputs": [
        {
          "output_type": "stream",
          "text": [
            "Cant de jugadores en un equipo con ranking <5 jugaron más de 400 minutos son :  26\n"
          ],
          "name": "stdout"
        }
      ]
    },
    {
      "cell_type": "markdown",
      "metadata": {
        "id": "Rp4GGcmvoOQg",
        "colab_type": "text"
      },
      "source": [
        "#### 6.- Calcule por cada equipo la diferencia entre el jugador que da menos pases con el que da más pases. (use función groupby, agg con función lambda)"
      ]
    },
    {
      "cell_type": "code",
      "metadata": {
        "id": "TQWLEHctaS1v",
        "colab_type": "code",
        "colab": {}
      },
      "source": [
        "Players.groupby('team').agg({'passes' : { 'Diferencia' : lambda x : max(x)-min(x) }})"
      ],
      "execution_count": 0,
      "outputs": []
    },
    {
      "cell_type": "markdown",
      "metadata": {
        "id": "9pdHwCFtoOIf",
        "colab_type": "text"
      },
      "source": [
        "# Ejercicio 4  - [usar Dataframe]"
      ]
    },
    {
      "cell_type": "markdown",
      "metadata": {
        "id": "kQf6_nn4oN-R",
        "colab_type": "text"
      },
      "source": [
        "Escribir un bucle que interactivamente le pide al usuario que introduzca un nombre de equipo.\n",
        "- Si el equipo existe, liste todos los jugadores de ese equipo (con toda su información), ordenados por minutos descendentes.\n",
        "- Si el equipo no existe, imprima \"Este equipo no clasifico al mundial\".\n",
        "- Si se ingresa 'salir', termine el loop.\n"
      ]
    },
    {
      "cell_type": "code",
      "metadata": {
        "id": "UG6kozGek3qq",
        "colab_type": "code",
        "colab": {}
      },
      "source": [
        "def buscarEquipo (equipo):\n",
        "    equipo = equipo.title()\n",
        "    print (equipo)\n",
        "    if (Players[Players.team == equipo].empty == False ):\n",
        "      print (Players[Players.team == equipo].sort_values(by=['minutes'],ascending=[True]))\n",
        "      return 0\n",
        "    if (equipo == 'Salir'):\n",
        "      print ('Ya salio del loop')\n",
        "      return 1 \n",
        "    else: \n",
        "      print ('El equipo ingresado no clasifico al mundial')\n",
        "      return 0"
      ],
      "execution_count": 0,
      "outputs": []
    },
    {
      "cell_type": "code",
      "metadata": {
        "id": "1XgxsoODHiAK",
        "colab_type": "code",
        "outputId": "7b6fea9c-5ba0-47e1-b613-9349d54f8995",
        "colab": {
          "base_uri": "https://localhost:8080/",
          "height": 561
        }
      },
      "source": [
        "condicion = 0\n",
        "while (condicion == 0):\n",
        "    print ('Ingresar Selecciones de Futbol del Mundo')\n",
        "    equipo = input('Si no, ingrese salir: ')\n",
        "    condicion = buscarEquipo(equipo)"
      ],
      "execution_count": 0,
      "outputs": [
        {
          "output_type": "stream",
          "text": [
            "Ingresar Selecciones de Futbol del Mundo\n",
            "Si no, ingrese salir: chile\n",
            "Chile\n",
            "        surname   team    position  minutes  shots  passes  tackles  saves\n",
            "108    Orellana  Chile     forward       25      1       7        0      0\n",
            "100     Estrada  Chile  midfielder       37      1      16        2      0\n",
            "113       Tello  Chile  midfielder       45      0      29        1      0\n",
            "99    Contreras  Chile    defender       54      0      17        1      0\n",
            "109     Paredes  Chile     forward       70      3      11        5      0\n",
            "102     Fuentes  Chile    defender       90      0      27        3      0\n",
            "107      Millar  Chile  midfielder      125      1      80        3      0\n",
            "111       Suazo  Chile     forward      135      4      39        1      0\n",
            "103    Gonzalez  Chile  midfielder      138     10      41        6      0\n",
            "101   Fernandez  Chile  midfielder      155      1      72        2      0\n",
            "114    Valdivia  Chile     forward      222      3      91        3      0\n",
            "98      Carmona  Chile  midfielder      270      1     175        9      0\n",
            "106       Medel  Chile    defender      270      1     123        7      0\n",
            "110       Ponce  Chile    defender      270      2     113        4      0\n",
            "115       Vidal  Chile    defender      306      6     178       17      0\n",
            "105        Jara  Chile    defender      308      1     187        8      0\n",
            "104        Isla  Chile    defender      332      1     123       10      0\n",
            "112     Sanchez  Chile     forward      335      7     113       13      0\n",
            "97        Bravo  Chile  goalkeeper      360      0      58        0      4\n",
            "96   Beausejour  Chile  midfielder      360      2     100        7      0\n",
            "Ingresar Selecciones de Futbol del Mundo\n",
            "Si no, ingrese salir: asd\n",
            "Asd\n",
            "El equipo ingresado no clasifico al mundial\n",
            "Ingresar Selecciones de Futbol del Mundo\n",
            "Si no, ingrese salir: salir\n",
            "Salir\n",
            "Ya salio del loop\n"
          ],
          "name": "stdout"
        }
      ]
    }
  ]
}